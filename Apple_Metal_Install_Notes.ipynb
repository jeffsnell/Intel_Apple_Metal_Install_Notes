{
 "cells": [
  {
   "cell_type": "markdown",
   "id": "5a45e408-feb9-4d7a-8de5-a28a3acc2ce4",
   "metadata": {},
   "source": [
    "# Installing TensorFlow and Apple Metal GPU Support on Intel Apple with AMD GPU\n",
    "\n",
    "The Intel Apple with AMD GPU delivers good performance (not demonstrated here) when used to implement ML models using TensorFlow / TensorFlow-Hub / Keras.\n",
    "\n",
    "This notebook documents one way that I have found to install the necessary software. This uses **conda** and assumes that you have that installed before you start. This uses **Jupyter Lab**, but it is not required to use Apple Metal. The system am usng is 2019 MacPro wth Sonoma 14.4.1.\n",
    "\n",
    "There are three steps to this process:\n",
    "\n",
    "1. Create and activate an environment\n",
    "2. Install the packages\n",
    "3. Install & start Jupyter Lab\n",
    "4. Check the software\n",
    "\n",
    "<div class=\"alert alert-block alert-info\">\n",
    "    The commands that I show below are a combination of `pip install...`, `python -m pip...` and `conda install...`\n",
    "    <br> These were copied from a varety of sources found... <b>these work for me</b> but there may be a better / cleaner way to accomplish the same results.\n",
    "</div>"
   ]
  },
  {
   "cell_type": "markdown",
   "id": "a4769836-914d-4530-911f-49c1e487c812",
   "metadata": {},
   "source": [
    "## 1. Create and activate a **conda** environment\n",
    "\n",
    "NOTE: This step is performed in a (unix) shell, use the **terminal** app on the Mac to open a shell window."
   ]
  },
  {
   "cell_type": "markdown",
   "id": "184d6e62-26ab-4bae-8ec5-0cdd18df8148",
   "metadata": {},
   "source": [
    "* Create a folder and `cd` into the folder; insert your own name for `new_project_folder`\n",
    "\n",
    ">mkdir `new_project_dir`\n",
    "\n",
    ">cd `new_project_dir`\n"
   ]
  },
  {
   "cell_type": "markdown",
   "id": "a8f04923-54d4-4f01-8582-0cc3d8467b8c",
   "metadata": {},
   "source": [
    "* Create an environment with `conda`\n",
    "\n",
    ">conda create --prefix ./env pandas numpy matplotlib scikit-learn\n"
   ]
  },
  {
   "cell_type": "markdown",
   "id": "f7fdb069-51ac-4528-becb-3196d555a873",
   "metadata": {},
   "source": [
    "* Activate the environment with `conda` - instructions for activation will have been output when the environment was created\n",
    "\n",
    ">conda activate `/path-to-folder/env`\n"
   ]
  },
  {
   "cell_type": "markdown",
   "id": "88fa54cd-fbeb-4dbd-a74c-d903b804326f",
   "metadata": {},
   "source": [
    "## 2. Install the packages\n",
    "\n",
    "NOTE: This step is performed in a (unix) shell, with `conda` environment active"
   ]
  },
  {
   "cell_type": "markdown",
   "id": "6f32ef89-c7df-4b1d-948f-bc762f23cc5b",
   "metadata": {},
   "source": [
    "* Install `python` version 3.10; my experience is that python version <3.11 is required\n",
    "\n",
    ">conda install python==3.10\n"
   ]
  },
  {
   "cell_type": "markdown",
   "id": "d1152b7c-cf4b-4dc1-9751-afc36ac7954e",
   "metadata": {},
   "source": [
    "## Regarding tensorflow-macos\n",
    "\n",
    "Many instructions for installing Metal on MacOs I found tell you to install TensorFlow with:\n",
    "\n",
    "<div class=\"alert alert-block alert-info\">\n",
    "    python -m pip install tensorflow-macos\n",
    "</div>\n",
    "\n",
    "The TensorFlow 2.16 documentation states:\n",
    "\n",
    "<div class=\"alert alert-block alert-info\">\n",
    "    If you previously installed TensorFlow using pip install tensorflow-macos, please update your installation method. Use pip install tensorflow from now on. tensorflow-macos package will no longer receive updates. Future updates will be released to tensorflow.\n",
    "</div>\n",
    "\n",
    "Many instructions for installing Metal on MacOs I found tell you to install TensorFlow with:\n",
    "\n",
    "<div class=\"alert alert-block alert-info\">\n",
    "    conda install -c apple tensorflow-deps\n",
    "</div>\n",
    "\n",
    "I have found instructions that ndcate that *tensorflow-deps* s no longer needed\n"
   ]
  },
  {
   "cell_type": "markdown",
   "id": "b1588123-2444-4b63-a62c-580f3b8b250d",
   "metadata": {},
   "source": [
    "* Install TensorFlow & Apple Metal packages\n",
    "\n",
    "<div class=\"alert alert-block alert-info\">\n",
    "    The *newest* TensorFlow version  have been able to install is 2.13\n",
    "<br> And the newest verson of Metal  have been able to install is 1.0.0\n",
    "</div>\n",
    "\n",
    ">pip install tensorflow==2.13\n",
    "\n",
    ">python -m pip install tensorflow-metal==1.0.0\n"
   ]
  },
  {
   "cell_type": "markdown",
   "id": "ceb9d77c-f2ea-4df6-af32-4eccb4917dde",
   "metadata": {},
   "source": [
    "## 3. Install & start Jupyter Lab\n",
    "\n",
    "NOTE: This step is performed in a (unix) shell, with `conda` environment active"
   ]
  },
  {
   "cell_type": "markdown",
   "id": "03c89b3b-cbd7-4486-85bd-d6fcd6896ab2",
   "metadata": {},
   "source": [
    "* Install Jupyter Lab\n",
    "\n",
    "> conda install -c conda-forge jupyterlab"
   ]
  },
  {
   "cell_type": "markdown",
   "id": "d2d06669-0452-4d8e-b889-26ddc09be151",
   "metadata": {},
   "source": [
    "* Launch Jupyter Lab\n",
    "\n",
    "> jupyter lab"
   ]
  },
  {
   "cell_type": "markdown",
   "id": "16ac2660-3006-4c1f-8193-44068c5aee0a",
   "metadata": {},
   "source": [
    "## 4. 4. Check the software\n",
    "\n",
    "Run the code in the cell below, the output should resemble the output shown"
   ]
  },
  {
   "cell_type": "code",
   "execution_count": 1,
   "id": "44547e2e-8cf2-4973-895c-fb7c6847cb3c",
   "metadata": {},
   "outputs": [
    {
     "name": "stderr",
     "output_type": "stream",
     "text": [
      "2024-04-04 20:03:02.820236: I tensorflow/core/platform/cpu_feature_guard.cc:182] This TensorFlow binary is optimized to use available CPU instructions in performance-critical operations.\n",
      "To enable the following instructions: AVX2 FMA, in other operations, rebuild TensorFlow with the appropriate compiler flags.\n"
     ]
    },
    {
     "name": "stdout",
     "output_type": "stream",
     "text": [
      "\n",
      "Devices:  [PhysicalDevice(name='/physical_device:CPU:0', device_type='CPU'), PhysicalDevice(name='/physical_device:GPU:0', device_type='GPU')]\n"
     ]
    }
   ],
   "source": [
    "import tensorflow as tf\n",
    "devices = tf.config.list_physical_devices()\n",
    "print(\"\\nDevices: \", devices)"
   ]
  },
  {
   "cell_type": "markdown",
   "id": "b2f5ace7-2bf0-43be-a1e4-cc4a53b9c98e",
   "metadata": {},
   "source": [
    "EXPECTED OUTPUT:\n",
    ">Devices:  [PhysicalDevice(name='/physical_device:CPU:0', device_type='CPU'), PhysicalDevice(name='/physical_device:GPU:0', device_type='GPU')]"
   ]
  },
  {
   "cell_type": "code",
   "execution_count": 2,
   "id": "c2545f7f-fd9e-4e05-a1f1-d95fe24703aa",
   "metadata": {},
   "outputs": [
    {
     "name": "stdout",
     "output_type": "stream",
     "text": [
      "TF version: 2.13.0\n"
     ]
    }
   ],
   "source": [
    "import tensorflow as tf\n",
    "\n",
    "version_fn = getattr(tf.keras, \"version\", None)\n",
    "print(\"TF version:\", tf.__version__)"
   ]
  },
  {
   "cell_type": "code",
   "execution_count": 3,
   "id": "955bd4b0-a713-4f47-bd63-2a28ef395699",
   "metadata": {},
   "outputs": [
    {
     "name": "stdout",
     "output_type": "stream",
     "text": [
      "Name: tensorflow-metal\n",
      "Version: 1.0.0\n",
      "Summary: TensorFlow acceleration for Mac GPUs.\n",
      "Home-page: https://developer.apple.com/metal/tensorflow-plugin/\n",
      "Author: \n",
      "Author-email: \n",
      "License: MIT License. Copyright © 2020-2021 Apple Inc. All rights reserved.\n",
      "Location: /Users/jeff/Projects/Intel_Apple_Metal_Install_Notes/env/lib/python3.10/site-packages\n",
      "Requires: six, wheel\n",
      "Required-by: \n"
     ]
    }
   ],
   "source": [
    "!pip show tensorflow-metal"
   ]
  },
  {
   "cell_type": "code",
   "execution_count": 4,
   "id": "5ada36e7-2fae-4466-8d49-47760726cd2e",
   "metadata": {},
   "outputs": [
    {
     "name": "stdout",
     "output_type": "stream",
     "text": [
      "GPU details:  {'device_name': 'METAL'}\n"
     ]
    }
   ],
   "source": [
    "gpus = tf.config.list_physical_devices('GPU')\n",
    "if gpus:\n",
    "  details = tf.config.experimental.get_device_details(gpus[0])\n",
    "  print(\"GPU details: \", details)"
   ]
  },
  {
   "cell_type": "markdown",
   "id": "1ac57aab-e582-4fc6-8539-7670b01f6e29",
   "metadata": {},
   "source": [
    "EXPECTED OUTPUT:\n",
    ">GPU details:  {'device_name': 'METAL'}"
   ]
  }
 ],
 "metadata": {
  "kernelspec": {
   "display_name": "Python 3 (ipykernel)",
   "language": "python",
   "name": "python3"
  },
  "language_info": {
   "codemirror_mode": {
    "name": "ipython",
    "version": 3
   },
   "file_extension": ".py",
   "mimetype": "text/x-python",
   "name": "python",
   "nbconvert_exporter": "python",
   "pygments_lexer": "ipython3",
   "version": "3.10.0"
  }
 },
 "nbformat": 4,
 "nbformat_minor": 5
}
